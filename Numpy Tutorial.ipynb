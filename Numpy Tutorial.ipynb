{
 "cells": [
  {
   "cell_type": "code",
   "execution_count": 10,
   "id": "ed03d7ea",
   "metadata": {},
   "outputs": [
    {
     "name": "stdout",
     "output_type": "stream",
     "text": [
      "Defaulting to user installation because normal site-packages is not writeable\n",
      "Requirement already satisfied: numpy in c:\\programdata\\anaconda3\\lib\\site-packages (1.21.5)\n",
      "Note: you may need to restart the kernel to use updated packages.\n"
     ]
    }
   ],
   "source": [
    "pip install numpy"
   ]
  },
  {
   "cell_type": "code",
   "execution_count": 3,
   "id": "8cd9b92a",
   "metadata": {},
   "outputs": [],
   "source": [
    "import numpy as np"
   ]
  },
  {
   "cell_type": "code",
   "execution_count": 7,
   "id": "bfd95ace",
   "metadata": {},
   "outputs": [
    {
     "name": "stdout",
     "output_type": "stream",
     "text": [
      "[1 2 3 4 5 6 7]\n",
      "<class 'numpy.ndarray'>\n"
     ]
    }
   ],
   "source": [
    "x = np.array([1,2,3,4,5,6,7,])\n",
    "print(x)\n",
    "print(type(x))"
   ]
  },
  {
   "cell_type": "code",
   "execution_count": 11,
   "id": "c140513a",
   "metadata": {},
   "outputs": [
    {
     "name": "stdout",
     "output_type": "stream",
     "text": [
      "[1, 2, 3, 4, 5, 6, 7]\n",
      "<class 'list'>\n"
     ]
    }
   ],
   "source": [
    "y= [1,2,3,4,5,6,7]\n",
    "print(y)\n",
    "print(type(y))"
   ]
  },
  {
   "cell_type": "code",
   "execution_count": 12,
   "id": "f0482db8",
   "metadata": {},
   "outputs": [
    {
     "name": "stdout",
     "output_type": "stream",
     "text": [
      "1.97 µs ± 267 ns per loop (mean ± std. dev. of 7 runs, 1,000,000 loops each)\n"
     ]
    }
   ],
   "source": [
    "%timeit [j**4 for j in range (1,9)]"
   ]
  },
  {
   "cell_type": "code",
   "execution_count": 13,
   "id": "2376cc82",
   "metadata": {},
   "outputs": [
    {
     "name": "stdout",
     "output_type": "stream",
     "text": [
      "1.37 µs ± 162 ns per loop (mean ± std. dev. of 7 runs, 1,000,000 loops each)\n"
     ]
    }
   ],
   "source": [
    "import numpy as np\n",
    "\n",
    "%timeit np.arange(1,9)**4"
   ]
  },
  {
   "cell_type": "markdown",
   "id": "fb6308e0",
   "metadata": {},
   "source": [
    "# Creating NumPy Arrays"
   ]
  },
  {
   "cell_type": "code",
   "execution_count": 19,
   "id": "9d729bbb",
   "metadata": {},
   "outputs": [
    {
     "data": {
      "text/plain": [
       "array([3, 5, 7, 9, 1, 4, 7, 8, 9])"
      ]
     },
     "execution_count": 19,
     "metadata": {},
     "output_type": "execute_result"
    }
   ],
   "source": [
    "import numpy as np\n",
    "\n",
    "x =[3,5,7,9,1,4,7,8,9]\n",
    "\n",
    "y = np.array(x)\n",
    "\n",
    "y"
   ]
  },
  {
   "cell_type": "code",
   "execution_count": 22,
   "id": "65534e31",
   "metadata": {},
   "outputs": [
    {
     "name": "stdout",
     "output_type": "stream",
     "text": [
      "Enter: 24\n",
      "Enter: 4\n",
      "Enter: 5\n",
      "Enter: 6\n",
      "Enter: 65\n",
      "[24  4  5  6 65]\n"
     ]
    }
   ],
   "source": [
    "l = []\n",
    "\n",
    "for i in range(1,6):\n",
    "    x = int(input(\"Enter: \"))\n",
    "    l.append(x)\n",
    "    \n",
    "print(np.array(l))"
   ]
  },
  {
   "cell_type": "markdown",
   "id": "facdc2a0",
   "metadata": {},
   "source": [
    "# Types Of Array"
   ]
  },
  {
   "cell_type": "code",
   "execution_count": 25,
   "id": "95b1d8b7",
   "metadata": {},
   "outputs": [
    {
     "name": "stdout",
     "output_type": "stream",
     "text": [
      "1\n"
     ]
    }
   ],
   "source": [
    "x =[3,5,7,9,1,4,7,8,9]\n",
    "\n",
    "y = np.array(x)\n",
    "\n",
    "y\n",
    "\n",
    "print(y.ndim)"
   ]
  },
  {
   "cell_type": "code",
   "execution_count": 26,
   "id": "a5c6d24b",
   "metadata": {},
   "outputs": [],
   "source": [
    "l2 = np.array([[1,2,3,4],[2,3,4,5]])#both list are same numbers"
   ]
  },
  {
   "cell_type": "code",
   "execution_count": 39,
   "id": "569c5879",
   "metadata": {},
   "outputs": [
    {
     "name": "stdout",
     "output_type": "stream",
     "text": [
      "[[1 2 3 4]\n",
      " [2 3 4 5]]\n",
      "2\n"
     ]
    }
   ],
   "source": [
    "print(l2)\n",
    "\n",
    "print(l2.ndim)"
   ]
  },
  {
   "cell_type": "code",
   "execution_count": 40,
   "id": "c2dfa573",
   "metadata": {},
   "outputs": [
    {
     "name": "stdout",
     "output_type": "stream",
     "text": [
      "[[[1 2 3 4]\n",
      "  [3 4 5 6]\n",
      "  [6 7 8 9]]]\n",
      "3\n"
     ]
    }
   ],
   "source": [
    "l3 = np.array([[[1,2,3,4],[3,4,5,6],[6,7,8,9]]])\n",
    "\n",
    "print(l3)\n",
    "print(l3.ndim)"
   ]
  },
  {
   "cell_type": "code",
   "execution_count": 41,
   "id": "085f0dd5",
   "metadata": {},
   "outputs": [
    {
     "name": "stdout",
     "output_type": "stream",
     "text": [
      "[[[[[[[[[[1 2 3 4]]]]]]]]]]\n",
      "10\n"
     ]
    }
   ],
   "source": [
    "ln = np.array([1,2,3,4],ndmin = 10)#No of dimension array\n",
    "\n",
    "print(ln)\n",
    "print(ln.ndim)"
   ]
  },
  {
   "cell_type": "markdown",
   "id": "8b42987a",
   "metadata": {},
   "source": [
    "# Special types of Array"
   ]
  },
  {
   "cell_type": "markdown",
   "id": "dacf1a2b",
   "metadata": {},
   "source": [
    "# 1.ZERO"
   ]
  },
  {
   "cell_type": "code",
   "execution_count": 43,
   "id": "a4cddb1a",
   "metadata": {},
   "outputs": [
    {
     "name": "stdout",
     "output_type": "stream",
     "text": [
      "[0. 0. 0. 0.]\n",
      "[[0. 0. 0. 0.]\n",
      " [0. 0. 0. 0.]\n",
      " [0. 0. 0. 0.]]\n"
     ]
    }
   ],
   "source": [
    "import numpy as np\n",
    "\n",
    "ar_zero = np.zeros(4)\n",
    "ar_zeros1 = np.zeros((3,4))\n",
    "\n",
    "print(ar_zero)\n",
    "print(ar_zeros1)"
   ]
  },
  {
   "cell_type": "markdown",
   "id": "2e6a0521",
   "metadata": {},
   "source": [
    "# 2.ONES"
   ]
  },
  {
   "cell_type": "code",
   "execution_count": 44,
   "id": "ebd0f806",
   "metadata": {},
   "outputs": [
    {
     "name": "stdout",
     "output_type": "stream",
     "text": [
      "[1. 1. 1. 1.]\n"
     ]
    }
   ],
   "source": [
    "ar_1 = np.ones(4)\n",
    "\n",
    "print(ar_1)"
   ]
  },
  {
   "cell_type": "markdown",
   "id": "9513caed",
   "metadata": {},
   "source": [
    "# 3.EMPTY"
   ]
  },
  {
   "cell_type": "code",
   "execution_count": 45,
   "id": "69c2512e",
   "metadata": {},
   "outputs": [
    {
     "name": "stdout",
     "output_type": "stream",
     "text": [
      "[1. 1. 1. 1.]\n"
     ]
    }
   ],
   "source": [
    "ar_em = np.empty(4)\n",
    "\n",
    "print(ar_em)#privious element create"
   ]
  },
  {
   "cell_type": "markdown",
   "id": "5400cfdc",
   "metadata": {},
   "source": [
    "# 4.RANGE"
   ]
  },
  {
   "cell_type": "code",
   "execution_count": 46,
   "id": "0e37e009",
   "metadata": {},
   "outputs": [
    {
     "name": "stdout",
     "output_type": "stream",
     "text": [
      "[0 1 2 3 4]\n"
     ]
    }
   ],
   "source": [
    "ar_rn = np.arange(5)\n",
    "\n",
    "print(ar_rn)"
   ]
  },
  {
   "cell_type": "markdown",
   "id": "88bf850a",
   "metadata": {},
   "source": [
    "# 5.DIAGONAL ELEMENT"
   ]
  },
  {
   "cell_type": "markdown",
   "id": "0486292a",
   "metadata": {},
   "source": [
    "# ar_dia = np.eye(5)\n",
    "\n",
    "print(ar_dia)"
   ]
  },
  {
   "cell_type": "code",
   "execution_count": 51,
   "id": "aa02c774",
   "metadata": {},
   "outputs": [
    {
     "name": "stdout",
     "output_type": "stream",
     "text": [
      "[[1. 0. 0. 0. 0.]\n",
      " [0. 1. 0. 0. 0.]\n",
      " [0. 0. 1. 0. 0.]]\n"
     ]
    }
   ],
   "source": [
    "ar_dia1 = np.eye(3,5)\n",
    "print(ar_dia1)"
   ]
  },
  {
   "cell_type": "markdown",
   "id": "d16978d3",
   "metadata": {},
   "source": [
    "# 6.Linspacing"
   ]
  },
  {
   "cell_type": "code",
   "execution_count": 55,
   "id": "708b0208",
   "metadata": {},
   "outputs": [
    {
     "name": "stdout",
     "output_type": "stream",
     "text": [
      "[ 0.  8. 16. 24. 32. 40.]\n"
     ]
    }
   ],
   "source": [
    "ar_lin = np.linspace(0,40,num=6)\n",
    "\n",
    "print(ar_lin)"
   ]
  },
  {
   "cell_type": "markdown",
   "id": "7ad2f3d4",
   "metadata": {},
   "source": [
    "# *Creating Random Numbers Numpy Array"
   ]
  },
  {
   "cell_type": "markdown",
   "id": "849d54ef",
   "metadata": {},
   "source": [
    "# 1.rand()"
   ]
  },
  {
   "cell_type": "code",
   "execution_count": 4,
   "id": "ad5525da",
   "metadata": {},
   "outputs": [
    {
     "name": "stdout",
     "output_type": "stream",
     "text": [
      "[0.60140654 0.94269211 0.24676487 0.96488981 0.26267631 0.99293543]\n"
     ]
    }
   ],
   "source": [
    "import numpy as np  #One Dimension\n",
    "\n",
    "var = np.random.rand(6)\n",
    "print(var)"
   ]
  },
  {
   "cell_type": "code",
   "execution_count": 6,
   "id": "bd29eb33",
   "metadata": {},
   "outputs": [
    {
     "name": "stdout",
     "output_type": "stream",
     "text": [
      "[[0.89874393 0.02991444 0.71694817 0.38005449 0.60045815 0.31653545]\n",
      " [0.98379772 0.87612096 0.96315974 0.70684202 0.54616888 0.00313724]]\n",
      "2\n"
     ]
    }
   ],
   "source": [
    "var = np.random.rand(2,6)#Two Dimension\n",
    "\n",
    "print(var)\n",
    "print(var.ndim)"
   ]
  },
  {
   "cell_type": "markdown",
   "id": "e99c14f5",
   "metadata": {},
   "source": [
    "# 2.randn()"
   ]
  },
  {
   "cell_type": "code",
   "execution_count": 11,
   "id": "33223517",
   "metadata": {},
   "outputs": [
    {
     "name": "stdout",
     "output_type": "stream",
     "text": [
      "[-0.46594145  0.95840388  0.21940256 -0.20309601 -0.82027383 -0.15885394\n",
      " -0.81417649  0.0150544 ]\n"
     ]
    }
   ],
   "source": [
    "var2 = np.random.randn(8)    #random number may be positive or Negative\n",
    "\n",
    "print(var2)"
   ]
  },
  {
   "cell_type": "markdown",
   "id": "15a47bdb",
   "metadata": {},
   "source": [
    "# 3.ranf()"
   ]
  },
  {
   "cell_type": "code",
   "execution_count": 15,
   "id": "ddd80012",
   "metadata": {},
   "outputs": [
    {
     "name": "stdout",
     "output_type": "stream",
     "text": [
      "[0.92954014 0.00758456 0.60555227 0.29850523 0.88583778 0.82106334\n",
      " 0.98184644 0.73150028]\n"
     ]
    }
   ],
   "source": [
    "import numpy as np   #close t0 zero [o.o,1,0] but no 1 including\n",
    "\n",
    "var3 = np.random.ranf(8)\n",
    "\n",
    "print(var3)"
   ]
  },
  {
   "cell_type": "markdown",
   "id": "6450c621",
   "metadata": {},
   "source": [
    "# 4.randint()"
   ]
  },
  {
   "cell_type": "code",
   "execution_count": 31,
   "id": "cac0d249",
   "metadata": {},
   "outputs": [
    {
     "name": "stdout",
     "output_type": "stream",
     "text": [
      "29\n"
     ]
    }
   ],
   "source": [
    "import numpy as np     #random number between two numbers\n",
    "\n",
    "var4 = np.random.randint(0,45)\n",
    "\n",
    "print(var4)"
   ]
  },
  {
   "cell_type": "markdown",
   "id": "06386923",
   "metadata": {},
   "source": [
    "# Data Types NumPy Array"
   ]
  },
  {
   "cell_type": "code",
   "execution_count": 33,
   "id": "6d2ba406",
   "metadata": {},
   "outputs": [
    {
     "name": "stdout",
     "output_type": "stream",
     "text": [
      "Data Type :  int32\n"
     ]
    }
   ],
   "source": [
    "import numpy as np\n",
    "\n",
    "var = np.array([1,2,3,4,5,6,7,8,9,45,56,67,78,78,65,4,33,3,3,3,3,3,99])\n",
    "\n",
    "print(\"Data Type : \", var.dtype)"
   ]
  },
  {
   "cell_type": "code",
   "execution_count": 34,
   "id": "7984d852",
   "metadata": {},
   "outputs": [
    {
     "name": "stdout",
     "output_type": "stream",
     "text": [
      "Data Type :  float64\n"
     ]
    }
   ],
   "source": [
    "import numpy as np\n",
    "\n",
    "var = np.array([1.34,2.45,3.54,4.56,9.56])\n",
    "\n",
    "print(\"Data Type : \", var.dtype)"
   ]
  },
  {
   "cell_type": "code",
   "execution_count": 35,
   "id": "9c45f205",
   "metadata": {},
   "outputs": [
    {
     "name": "stdout",
     "output_type": "stream",
     "text": [
      "Data Type :  <U1\n"
     ]
    }
   ],
   "source": [
    "var = np.array([\"A\",\"B\",\"C\",\"D\",\"E\"])\n",
    "\n",
    "print(\"Data Type : \", var.dtype)"
   ]
  },
  {
   "cell_type": "code",
   "execution_count": 38,
   "id": "66e8258f",
   "metadata": {},
   "outputs": [
    {
     "name": "stdout",
     "output_type": "stream",
     "text": [
      "Data Type :  <U32\n"
     ]
    }
   ],
   "source": [
    "var = np.array([\"A\",\"B\",1.34,2.45,3.54,4.56,9.56])\n",
    "\n",
    "print(\"Data Type : \", var.dtype)"
   ]
  },
  {
   "cell_type": "code",
   "execution_count": 40,
   "id": "966f6010",
   "metadata": {},
   "outputs": [
    {
     "name": "stdout",
     "output_type": "stream",
     "text": [
      "Data Type :  int8\n",
      "[ 1  2  3  4  5  6  7  8  9 45 56 67 78 78 65  4 33  3  3  3  3  3 99]\n"
     ]
    }
   ],
   "source": [
    "var = np.array([1,2,3,4,5,6,7,8,9,45,56,67,78,78,65,4,33,3,3,3,3,3,99],dtype = np.int8)\n",
    "\n",
    "print(\"Data Type : \", var.dtype)\n",
    "print(var)"
   ]
  },
  {
   "cell_type": "code",
   "execution_count": 42,
   "id": "7b960282",
   "metadata": {},
   "outputs": [
    {
     "name": "stdout",
     "output_type": "stream",
     "text": [
      "Data Type :  float32\n",
      "[ 1.  2.  3.  4.  5.  6.  7.  8.  9. 45. 56. 67. 78. 78. 65.  4. 33.  3.\n",
      "  3.  3.  3.  3. 99.]\n"
     ]
    }
   ],
   "source": [
    "var = np.array([1,2,3,4,5,6,7,8,9,45,56,67,78,78,65,4,33,3,3,3,3,3,99], dtype = \"f\")\n",
    "\n",
    "print(\"Data Type : \", var.dtype)\n",
    "print(var)"
   ]
  },
  {
   "cell_type": "code",
   "execution_count": 46,
   "id": "206229e1",
   "metadata": {},
   "outputs": [
    {
     "name": "stdout",
     "output_type": "stream",
     "text": [
      "Data Type :  int32\n",
      "Data Type :  float32\n",
      "Data Type :  int32\n",
      "[ 1  2  3  4  5  6  7  8  9 45 56 67 78 78 65  4 33  3  3  3  3  3 99]\n",
      "[ 1  2  3  4  5  6  7  8  9 45 56 67 78 78 65  4 33  3  3  3  3  3 99]\n",
      "[ 1.  2.  3.  4.  5.  6.  7.  8.  9. 45. 56. 67. 78. 78. 65.  4. 33.  3.\n",
      "  3.  3.  3.  3. 99.]\n"
     ]
    }
   ],
   "source": [
    "var = np.array([1,2,3,4,5,6,7,8,9,45,56,67,78,78,65,4,33,3,3,3,3,3,99])\n",
    "\n",
    "new = np.float32(var)\n",
    "\n",
    "new1 = np.int_(new)\n",
    "\n",
    "\n",
    "print(\"Data Type : \", var.dtype)\n",
    "print(\"Data Type : \", new.dtype)\n",
    "print(\"Data Type : \", new1.dtype)\n",
    "print(var)\n",
    "print(new1)\n",
    "print(new)"
   ]
  },
  {
   "cell_type": "code",
   "execution_count": 47,
   "id": "f6e392cc",
   "metadata": {},
   "outputs": [
    {
     "name": "stdout",
     "output_type": "stream",
     "text": [
      "[1 2 3 4 5]\n",
      "[1. 2. 3. 4. 5.]\n"
     ]
    }
   ],
   "source": [
    "x3 = np.array([1,2,3,4,5])\n",
    "\n",
    "new_1 = x3.astype(float)\n",
    "print(x3)\n",
    "print(new_1)"
   ]
  },
  {
   "cell_type": "markdown",
   "id": "4841b20c",
   "metadata": {},
   "source": [
    "# Shape and Reshaping"
   ]
  },
  {
   "cell_type": "markdown",
   "id": "761df500",
   "metadata": {},
   "source": [
    "# 1.Shape"
   ]
  },
  {
   "cell_type": "code",
   "execution_count": 50,
   "id": "91f2a52b",
   "metadata": {},
   "outputs": [
    {
     "name": "stdout",
     "output_type": "stream",
     "text": [
      "[[1 2 4]\n",
      " [2 3 6]]\n",
      "\n",
      "(2, 3)\n"
     ]
    }
   ],
   "source": [
    "import numpy as np \n",
    "\n",
    "var = np.array([[1,2,4],[2,3,6]])\n",
    "\n",
    "print(var)\n",
    "print()\n",
    "print(var.shape)"
   ]
  },
  {
   "cell_type": "code",
   "execution_count": 54,
   "id": "4076f395",
   "metadata": {},
   "outputs": [
    {
     "name": "stdout",
     "output_type": "stream",
     "text": [
      "[[[[[[[[[[2 3 4 5]]]]]]]]]]\n",
      "10\n",
      "(1, 1, 1, 1, 1, 1, 1, 1, 1, 4)\n"
     ]
    }
   ],
   "source": [
    "var1 = np.array([2,3,4,5], ndmin=10)\n",
    "\n",
    "print(var1)\n",
    "print(var1.ndim)\n",
    "print(var1.shape)"
   ]
  },
  {
   "cell_type": "markdown",
   "id": "86da33b1",
   "metadata": {},
   "source": [
    "# Reshape\n"
   ]
  },
  {
   "cell_type": "code",
   "execution_count": 68,
   "id": "a6be920d",
   "metadata": {},
   "outputs": [
    {
     "name": "stdout",
     "output_type": "stream",
     "text": [
      "[[1 2 3]\n",
      " [4 5 6]\n",
      " [8 9 4]\n",
      " [3 2 3]]\n",
      "2\n",
      "[[1 4 8 3]\n",
      " [2 5 9 2]\n",
      " [3 6 4 3]]\n",
      "2\n",
      "[1 2 3 4 5 6 8 9 4 3 2 3]\n",
      "1\n"
     ]
    }
   ],
   "source": [
    "import numpy as np\n",
    "\n",
    "var = np.array([1,2,3,4,5,6,8,9,4,3,2,3])\n",
    "\n",
    "x = var.reshape(4,3)\n",
    "\n",
    "x2 = x.T\n",
    "\n",
    "print(x)\n",
    "print(x.ndim)\n",
    "print(x2)\n",
    "print(x2.ndim)\n",
    "\n",
    "one = x.reshape(-1)\n",
    "print(one)\n",
    "print(one.ndim)"
   ]
  },
  {
   "cell_type": "markdown",
   "id": "85a39bd7",
   "metadata": {},
   "source": [
    "# Arithmatic Operation In Numpy Array"
   ]
  },
  {
   "cell_type": "markdown",
   "id": "8f2e072f",
   "metadata": {},
   "source": [
    "# 1D Array"
   ]
  },
  {
   "cell_type": "code",
   "execution_count": 75,
   "id": "333339c8",
   "metadata": {},
   "outputs": [
    {
     "name": "stdout",
     "output_type": "stream",
     "text": [
      "[ 7  8  9 10 11 12]\n"
     ]
    }
   ],
   "source": [
    "import numpy as np\n",
    "\n",
    "var1 = np.array([2,3,4,5,6,7])\n",
    "var2 = np.array([3,4,5,6,7,8])\n",
    "\n",
    "varadd = np.add(var1,5)\n",
    "print(varadd)\n"
   ]
  },
  {
   "cell_type": "code",
   "execution_count": 76,
   "id": "0bfbad4f",
   "metadata": {},
   "outputs": [
    {
     "name": "stdout",
     "output_type": "stream",
     "text": [
      "[-3 -2 -1  0  1  2]\n"
     ]
    }
   ],
   "source": [
    "\n",
    "var1 = np.array([2,3,4,5,6,7])\n",
    "var2 = np.array([3,4,5,6,7,8])\n",
    "\n",
    "varadd = np.subtract(var1,5)\n",
    "print(varadd)"
   ]
  },
  {
   "cell_type": "code",
   "execution_count": 77,
   "id": "e1464fa6",
   "metadata": {},
   "outputs": [
    {
     "name": "stdout",
     "output_type": "stream",
     "text": [
      "[0.4 0.6 0.8 1.  1.2 1.4]\n"
     ]
    }
   ],
   "source": [
    "\n",
    "var1 = np.array([2,3,4,5,6,7])\n",
    "var2 = np.array([3,4,5,6,7,8])\n",
    "\n",
    "varadd = np.divide(var1,5)\n",
    "print(varadd)"
   ]
  },
  {
   "cell_type": "code",
   "execution_count": 78,
   "id": "beb109e9",
   "metadata": {},
   "outputs": [
    {
     "name": "stdout",
     "output_type": "stream",
     "text": [
      "[10 15 20 25 30 35]\n"
     ]
    }
   ],
   "source": [
    "\n",
    "var1 = np.array([2,3,4,5,6,7])\n",
    "var2 = np.array([3,4,5,6,7,8])\n",
    "\n",
    "varadd = np.multiply(var1,5)\n",
    "print(varadd)"
   ]
  },
  {
   "cell_type": "code",
   "execution_count": 79,
   "id": "12d1465b",
   "metadata": {},
   "outputs": [
    {
     "name": "stdout",
     "output_type": "stream",
     "text": [
      "[2 3 4 0 1 2]\n"
     ]
    }
   ],
   "source": [
    "\n",
    "var1 = np.array([2,3,4,5,6,7])\n",
    "var2 = np.array([3,4,5,6,7,8])\n",
    "\n",
    "varadd = np.mod(var1,5)\n",
    "print(varadd)"
   ]
  },
  {
   "cell_type": "code",
   "execution_count": 82,
   "id": "b5be7116",
   "metadata": {},
   "outputs": [
    {
     "name": "stdout",
     "output_type": "stream",
     "text": [
      "[0 0 0 0 0 0]\n"
     ]
    }
   ],
   "source": [
    "\n",
    "var1 = np.array([2,3,4,5,6,7])\n",
    "var2 = np.array([3,4,5,6,7,8])\n",
    "\n",
    "varadd = np.reciprocal(var2)\n",
    "print(varadd)"
   ]
  },
  {
   "cell_type": "markdown",
   "id": "8bdb9c33",
   "metadata": {},
   "source": [
    "# 2D Array"
   ]
  },
  {
   "cell_type": "code",
   "execution_count": 85,
   "id": "c88c02de",
   "metadata": {},
   "outputs": [
    {
     "name": "stdout",
     "output_type": "stream",
     "text": [
      "[[ 4  6  8 10 12 14]\n",
      " [ 6  8 10 12 14 16]]\n"
     ]
    }
   ],
   "source": [
    "var1 = np.array([[2,3,4,5,6,7],[3,4,5,6,7,8]])\n",
    "var2 = np.array([[2,3,4,5,6,7],[3,4,5,6,7,8]])\n",
    "\n",
    "varadd = np.add(var1,var2)\n",
    "print(varadd)\n",
    "\n"
   ]
  },
  {
   "cell_type": "code",
   "execution_count": 86,
   "id": "bb99bf02",
   "metadata": {},
   "outputs": [
    {
     "name": "stdout",
     "output_type": "stream",
     "text": [
      "[[0 0 0 0 0 0]\n",
      " [0 0 0 0 0 0]]\n"
     ]
    }
   ],
   "source": [
    "var1 = np.array([[2,3,4,5,6,7],[3,4,5,6,7,8]])\n",
    "var2 = np.array([[2,3,4,5,6,7],[3,4,5,6,7,8]])\n",
    "\n",
    "varadd = np.reciprocal(var1)\n",
    "print(varadd)\n"
   ]
  },
  {
   "cell_type": "code",
   "execution_count": 88,
   "id": "c2403ebb",
   "metadata": {},
   "outputs": [
    {
     "name": "stdout",
     "output_type": "stream",
     "text": [
      "[[0 0 0 0 0 0]\n",
      " [0 0 0 0 0 0]]\n"
     ]
    }
   ],
   "source": [
    "var1 = np.array([[2,3,4,5,6,7],[3,4,5,6,7,8]])\n",
    "var2 = np.array([[2,3,4,5,6,7],[3,4,5,6,7,8]])\n",
    "\n",
    "varadd = np.subtract(var1,var2)\n",
    "print(varadd)\n"
   ]
  },
  {
   "cell_type": "code",
   "execution_count": 89,
   "id": "fa4bbccd",
   "metadata": {},
   "outputs": [
    {
     "name": "stdout",
     "output_type": "stream",
     "text": [
      "[[ 4  9 16 25 36 49]\n",
      " [ 9 16 25 36 49 64]]\n"
     ]
    }
   ],
   "source": [
    "var1 = np.array([[2,3,4,5,6,7],[3,4,5,6,7,8]])\n",
    "var2 = np.array([[2,3,4,5,6,7],[3,4,5,6,7,8]])\n",
    "\n",
    "varadd = np.multiply(var1,var2)\n",
    "print(varadd)\n"
   ]
  },
  {
   "cell_type": "code",
   "execution_count": 90,
   "id": "149e7606",
   "metadata": {},
   "outputs": [
    {
     "name": "stdout",
     "output_type": "stream",
     "text": [
      "[[1. 1. 1. 1. 1. 1.]\n",
      " [1. 1. 1. 1. 1. 1.]]\n"
     ]
    }
   ],
   "source": [
    "var1 = np.array([[2,3,4,5,6,7],[3,4,5,6,7,8]])\n",
    "var2 = np.array([[2,3,4,5,6,7],[3,4,5,6,7,8]])\n",
    "\n",
    "varadd = np.divide(var1,var2)\n",
    "print(varadd)\n"
   ]
  },
  {
   "cell_type": "markdown",
   "id": "aaf93a85",
   "metadata": {},
   "source": [
    "# Arithmetic Functions\n"
   ]
  },
  {
   "cell_type": "code",
   "execution_count": 7,
   "id": "24f09fcf",
   "metadata": {},
   "outputs": [
    {
     "name": "stdout",
     "output_type": "stream",
     "text": [
      "min:  2 2\n",
      "max:  34 1\n",
      "sqrt:  [2.         5.83095189 1.41421356 1.73205081 2.         2.23606798\n",
      " 2.44948974 2.64575131]\n"
     ]
    }
   ],
   "source": [
    "import numpy as np   #one dimension\n",
    "\n",
    "var = np.array([4,34,2,3,4,5,6,7])\n",
    "\n",
    "print(\"min: \",np.min(var),np.argmin(var))\n",
    "\n",
    "print(\"max: \",np.max(var), np.argmax(var))\n",
    "\n",
    "print(\"sqrt: \",np.sqrt(var))"
   ]
  },
  {
   "cell_type": "code",
   "execution_count": 6,
   "id": "e4a04b0d",
   "metadata": {},
   "outputs": [
    {
     "name": "stdout",
     "output_type": "stream",
     "text": [
      "[2 1 3]\n"
     ]
    }
   ],
   "source": [
    "var1 = np.array([[2,1,3],[9,5,6]]) #tw0 dimension\n",
    "\n",
    "print(np.min(var1,axis=0))"
   ]
  },
  {
   "cell_type": "code",
   "execution_count": 10,
   "id": "475fb23c",
   "metadata": {},
   "outputs": [
    {
     "name": "stdout",
     "output_type": "stream",
     "text": [
      "[ 0.84147098  0.90929743  0.14112001 -0.7568025  -0.95892427 -0.2794155\n",
      "  0.6569866   0.98935825  0.41211849 -0.2794155 ]\n",
      "[ 0.54030231 -0.41614684 -0.9899925  -0.65364362  0.28366219  0.96017029\n",
      "  0.75390225 -0.14550003 -0.91113026  0.96017029]\n",
      "[ 1  3  6 10 15 21 28 36 45 51]\n"
     ]
    }
   ],
   "source": [
    "var2  = np.array([1,2,3,4,5,6,7,8,9,6])\n",
    "\n",
    "print(np.sin(var2))\n",
    "print(np.cos(var2))\n",
    "print(np.cumsum(var2))"
   ]
  },
  {
   "cell_type": "markdown",
   "id": "9bdf6b47",
   "metadata": {},
   "source": [
    "# Broadcasting NumPy Arrays"
   ]
  },
  {
   "cell_type": "code",
   "execution_count": 12,
   "id": "9d4fe944",
   "metadata": {},
   "outputs": [
    {
     "name": "stdout",
     "output_type": "stream",
     "text": [
      "[ 6  8 10 12]\n"
     ]
    }
   ],
   "source": [
    "import numpy as np\n",
    "\n",
    "var1 = np.array([1,2,3,4])\n",
    "\n",
    "var2 = np.array([5,6,7,8])\n",
    "\n",
    "print(var1 + var2)"
   ]
  },
  {
   "cell_type": "code",
   "execution_count": 17,
   "id": "4868dff5",
   "metadata": {},
   "outputs": [
    {
     "name": "stdout",
     "output_type": "stream",
     "text": [
      "[1 2 3]\n",
      "\n",
      "(3,)\n",
      "\n",
      "[[5]\n",
      " [6]\n",
      " [7]\n",
      " [8]]\n",
      "\n",
      "(4, 1)\n",
      "\n",
      "[[ 6  7  8]\n",
      " [ 7  8  9]\n",
      " [ 8  9 10]\n",
      " [ 9 10 11]]\n"
     ]
    }
   ],
   "source": [
    "var1 = np.array([1,2,3,4])\n",
    "\n",
    "var2 = np.array([[5],[6],[7],[8]])\n",
    "\n",
    "print(var1)\n",
    "print()\n",
    "print(var1.shape)\n",
    "print()\n",
    "print(var2)\n",
    "print()\n",
    "print(var2.shape)\n",
    "print()\n",
    "print(var1 + var2)"
   ]
  },
  {
   "cell_type": "markdown",
   "id": "930ead4f",
   "metadata": {},
   "source": [
    "# Indexing and Slicing"
   ]
  },
  {
   "cell_type": "markdown",
   "id": "47430cd1",
   "metadata": {},
   "source": [
    "# indexing"
   ]
  },
  {
   "cell_type": "code",
   "execution_count": 20,
   "id": "378681c6",
   "metadata": {},
   "outputs": [
    {
     "name": "stdout",
     "output_type": "stream",
     "text": [
      "8\n",
      "9\n"
     ]
    }
   ],
   "source": [
    "import numpy as np\n",
    "\n",
    "var = np.array([7,8,9,6])\n",
    "\n",
    "print(var[1])\n",
    "print(var[-2])"
   ]
  },
  {
   "cell_type": "code",
   "execution_count": 26,
   "id": "5e5ff936",
   "metadata": {},
   "outputs": [
    {
     "name": "stdout",
     "output_type": "stream",
     "text": [
      "[[1 2 3]\n",
      " [4 6 5]]\n",
      "2\n",
      "3\n"
     ]
    }
   ],
   "source": [
    "var1 = np.array([[1,2,3],[4,6,5]])  #Got number in array 2D\n",
    "print(var1)\n",
    "\n",
    "print(var1.ndim)\n",
    "\n",
    "print(var1[0,2])"
   ]
  },
  {
   "cell_type": "code",
   "execution_count": 33,
   "id": "e64f4abb",
   "metadata": {},
   "outputs": [
    {
     "name": "stdout",
     "output_type": "stream",
     "text": [
      "[[[1 2 3]\n",
      "  [2 3 4]\n",
      "  [5 6 7]]]\n",
      "3\n",
      "6\n"
     ]
    }
   ],
   "source": [
    "var2 = np.array([[[1,2,3],[2,3,4],[5,6,7]]])  #Got number in array 3D\n",
    "\n",
    "print(var2)\n",
    "\n",
    "print(var2.ndim)\n",
    "\n",
    "print(var2[0,2,1])"
   ]
  },
  {
   "cell_type": "markdown",
   "id": "edefd1d0",
   "metadata": {},
   "source": [
    "# Slicing"
   ]
  },
  {
   "cell_type": "code",
   "execution_count": 45,
   "id": "bbb973fb",
   "metadata": {},
   "outputs": [
    {
     "name": "stdout",
     "output_type": "stream",
     "text": [
      "[4 5 6 7 8 9]\n",
      "\n",
      "1\n",
      "\n",
      "5 To End :  [5 6 7 8 9]\n",
      "\n",
      "Start to 8: [4 5 6 7 8]\n",
      "Start to End: [5 6]\n"
     ]
    }
   ],
   "source": [
    "import numpy as np \n",
    "\n",
    "var = np.array([4,5,6,7,8,9])    #For One Dimension \n",
    "#               0,1,2,3,4,5\n",
    "\n",
    "print(var)\n",
    "print()\n",
    "\n",
    "print(var.ndim)\n",
    "print()\n",
    "\n",
    "print(\"5 To End : \",var[1:])\n",
    "\n",
    "print()\n",
    "\n",
    "print(\"Start to 8:\",var[:5])\n",
    "\n",
    "print(\"Start to End:\",var[1:3:1])\n",
    "\n"
   ]
  },
  {
   "cell_type": "code",
   "execution_count": 52,
   "id": "403c3d76",
   "metadata": {},
   "outputs": [
    {
     "name": "stdout",
     "output_type": "stream",
     "text": [
      "[[2 3 4 5 6 7 8]\n",
      " [4 5 6 4 5 6 6]]\n",
      "\n",
      "2\n",
      "\n",
      "3 to 7:  [6 4 5 6]\n"
     ]
    }
   ],
   "source": [
    "var2 = np.array([[2,3,4,5,6,7,8],[4,5,6,4,5,6,6]])   # For Two Dimension \n",
    "\n",
    "print(var2)\n",
    "print()\n",
    "print(var2.ndim)\n",
    "print()\n",
    "print(\"3 to 7: \",var2[1,2:6])\n",
    "\n"
   ]
  },
  {
   "cell_type": "code",
   "execution_count": 54,
   "id": "916788aa",
   "metadata": {},
   "outputs": [
    {
     "name": "stdout",
     "output_type": "stream",
     "text": [
      "[[[2 3 4 5 6 7]\n",
      "  [6 6 7 8 5 3]\n",
      "  [3 4 5 6 7 8]]]\n",
      "\n",
      "3\n",
      "\n",
      "4 To 7:  [4 5 6 7]\n"
     ]
    }
   ],
   "source": [
    "var3 = np.array([[[2,3,4,5,6,7],[6,6,7,8,5,3],[3,4,5,6,7,8]]])  #for Three Dimension\n",
    "\n",
    "print(var3)\n",
    "print()\n",
    "print(var3.ndim)\n",
    "print()\n",
    "print(\"4 To 7: \",var3[0,2,1:5])"
   ]
  },
  {
   "cell_type": "markdown",
   "id": "ac1eb619",
   "metadata": {},
   "source": [
    "# Iterating NumPy Arrays"
   ]
  },
  {
   "cell_type": "code",
   "execution_count": 58,
   "id": "687cf3f8",
   "metadata": {},
   "outputs": [
    {
     "name": "stdout",
     "output_type": "stream",
     "text": [
      "[4 7 8 9 6 5 4 4 3 2 1]\n",
      "\n",
      "4\n",
      "7\n",
      "8\n",
      "9\n",
      "6\n",
      "5\n",
      "4\n",
      "4\n",
      "3\n",
      "2\n",
      "1\n"
     ]
    }
   ],
   "source": [
    "import numpy as np\n",
    "\n",
    "var = np.array([4,7,8,9,6,5,4,4,3,2,1])\n",
    "\n",
    "print(var)\n",
    "print()\n",
    "\n",
    "for i in var :\n",
    "    print(i)\n",
    "    "
   ]
  },
  {
   "cell_type": "code",
   "execution_count": 60,
   "id": "ff62a012",
   "metadata": {},
   "outputs": [
    {
     "name": "stdout",
     "output_type": "stream",
     "text": [
      "[[2 3 4 5 6]\n",
      " [4 5 6 7 5]]\n",
      "\n",
      "2\n",
      "\n",
      "[2 3 4 5 6]\n",
      "[4 5 6 7 5]\n",
      "\n",
      "2\n",
      "3\n",
      "4\n",
      "5\n",
      "6\n",
      "4\n",
      "5\n",
      "6\n",
      "7\n",
      "5\n"
     ]
    }
   ],
   "source": [
    "var2 = np.array([[2,3,4,5,6],[4,5,6,7,5]])\n",
    "\n",
    "print(var2)\n",
    "print()\n",
    "print(var2.ndim)\n",
    "print()\n",
    "for j in var2 :\n",
    "    print(j)\n",
    "    \n",
    "print()\n",
    "for k in var2 :\n",
    "    for l in k :\n",
    "        print(l)"
   ]
  },
  {
   "cell_type": "code",
   "execution_count": 62,
   "id": "280d2383",
   "metadata": {},
   "outputs": [
    {
     "name": "stdout",
     "output_type": "stream",
     "text": [
      "[[[1 2 3 4]\n",
      "  [2 3 4 5]\n",
      "  [4 6 7 8]]]\n",
      "\n",
      "3\n",
      "\n",
      "1\n",
      "2\n",
      "3\n",
      "4\n",
      "2\n",
      "3\n",
      "4\n",
      "5\n",
      "4\n",
      "6\n",
      "7\n",
      "8\n"
     ]
    }
   ],
   "source": [
    "var3 = np.array([[[1,2,3,4],[2,3,4,5],[4,6,7,8]]])\n",
    "\n",
    "print(var3)\n",
    "print()\n",
    "print(var3.ndim)\n",
    "print()\n",
    "\n",
    "for i in var3 :\n",
    "    for j in i:\n",
    "        for k in j:\n",
    "            print(k)"
   ]
  },
  {
   "cell_type": "code",
   "execution_count": 67,
   "id": "0da1137c",
   "metadata": {},
   "outputs": [
    {
     "name": "stdout",
     "output_type": "stream",
     "text": [
      "[[[1 2 3 4]\n",
      "  [2 3 4 5]\n",
      "  [4 6 7 8]]]\n",
      "\n",
      "3\n",
      "\n",
      "1.0\n",
      "2.0\n",
      "3.0\n",
      "4.0\n",
      "2.0\n",
      "3.0\n",
      "4.0\n",
      "5.0\n",
      "4.0\n",
      "6.0\n",
      "7.0\n",
      "8.0\n"
     ]
    }
   ],
   "source": [
    "var3 = np.array([[[1,2,3,4],[2,3,4,5],[4,6,7,8]]]) #Using nditer function iterate values\n",
    "print(var3)\n",
    "print()\n",
    "print(var3.ndim)\n",
    "print()\n",
    "\n",
    "for i in np.nditer(var3,flags=['buffered'],op_dtypes=[float]): #convert in data types\n",
    "    print(i)\n",
    "    "
   ]
  },
  {
   "cell_type": "code",
   "execution_count": 69,
   "id": "ca32549c",
   "metadata": {},
   "outputs": [
    {
     "name": "stdout",
     "output_type": "stream",
     "text": [
      "[[[1 2 3 4]\n",
      "  [2 3 4 5]\n",
      "  [4 6 7 8]]]\n",
      "\n",
      "3\n",
      "\n",
      "(0, 0, 0) 1\n",
      "(0, 0, 1) 2\n",
      "(0, 0, 2) 3\n",
      "(0, 0, 3) 4\n",
      "(0, 1, 0) 2\n",
      "(0, 1, 1) 3\n",
      "(0, 1, 2) 4\n",
      "(0, 1, 3) 5\n",
      "(0, 2, 0) 4\n",
      "(0, 2, 1) 6\n",
      "(0, 2, 2) 7\n",
      "(0, 2, 3) 8\n"
     ]
    }
   ],
   "source": [
    "var4 = np.array([[[1,2,3,4],[2,3,4,5],[4,6,7,8]]])#check indexing \n",
    "print(var4)\n",
    "print()\n",
    "print(var4.ndim)\n",
    "print()\n",
    "\n",
    "for i,d in np.ndenumerate(var4):\n",
    "    print(i,d)\n"
   ]
  },
  {
   "cell_type": "markdown",
   "id": "c671e788",
   "metadata": {},
   "source": [
    "# Copy & View in NumPy Array"
   ]
  },
  {
   "cell_type": "code",
   "execution_count": 73,
   "id": "3adab1fc",
   "metadata": {},
   "outputs": [
    {
     "name": "stdout",
     "output_type": "stream",
     "text": [
      "[ 2  4 56  8  9  6]\n",
      "Copy : [2 4 6 8 9 6]\n"
     ]
    }
   ],
   "source": [
    "import numpy as np\n",
    "\n",
    "var = np.array([2,4,6,8,9,6])#Copy\n",
    "\n",
    "co = var.copy()\n",
    "var[2]=56\n",
    "print(var)\n",
    "print(\"Copy :\",co)"
   ]
  },
  {
   "cell_type": "code",
   "execution_count": 74,
   "id": "1d05328f",
   "metadata": {},
   "outputs": [
    {
     "name": "stdout",
     "output_type": "stream",
     "text": [
      "[ 2  4 56  8  9  6]\n",
      "View: [ 2  4 56  8  9  6]\n"
     ]
    }
   ],
   "source": [
    "\n",
    "var = np.array([2,4,6,8,9,6])#View\n",
    "\n",
    "vi = var.view()\n",
    "var[2]=56\n",
    "print(var)\n",
    "print(\"View:\",vi)"
   ]
  },
  {
   "cell_type": "markdown",
   "id": "82af95a8",
   "metadata": {},
   "source": [
    "# Join and Split in Numpy Array"
   ]
  },
  {
   "cell_type": "markdown",
   "id": "62260c23",
   "metadata": {},
   "source": [
    "# JOIN"
   ]
  },
  {
   "cell_type": "code",
   "execution_count": 76,
   "id": "d723a50c",
   "metadata": {},
   "outputs": [
    {
     "name": "stdout",
     "output_type": "stream",
     "text": [
      "[2 3 4 5 5 6 7 8]\n"
     ]
    }
   ],
   "source": [
    "import numpy as np\n",
    "\n",
    "var1 = np.array([2,3,4,5])   #For One Dimension\n",
    "var2 = np.array([5,6,7,8])\n",
    "\n",
    "ar_new = np.concatenate((var1,var2))\n",
    "print(ar_new)"
   ]
  },
  {
   "cell_type": "code",
   "execution_count": 80,
   "id": "3acfa996",
   "metadata": {},
   "outputs": [
    {
     "name": "stdout",
     "output_type": "stream",
     "text": [
      "[[2 3 5 6]\n",
      " [4 5 7 8]]\n",
      "[[2 3]\n",
      " [4 5]]\n",
      "2\n",
      "[[5 6]\n",
      " [7 8]]\n",
      "2\n"
     ]
    }
   ],
   "source": [
    "import numpy as np\n",
    "\n",
    "var1 = np.array([[2,3],[4,5]])   #For Two Dimension\n",
    "var2 = np.array([[5,6],[7,8]])\n",
    "\n",
    "ar_new1 = np.concatenate((var1,var2),axis=1)\n",
    "\n",
    "print(ar_new1)\n",
    "print(var1)\n",
    "print(var1.ndim)\n",
    "\n",
    "print(var2)\n",
    "print(var2.ndim)"
   ]
  },
  {
   "cell_type": "code",
   "execution_count": 87,
   "id": "9bcd3b7a",
   "metadata": {},
   "outputs": [
    {
     "name": "stdout",
     "output_type": "stream",
     "text": [
      "[[2 3 4 5]\n",
      " [5 6 7 8]]\n",
      "\n",
      "[[[2 5]\n",
      "  [3 6]\n",
      "  [4 7]\n",
      "  [5 8]]]\n",
      "\n",
      "[2 3 4 5 5 6 7 8]\n",
      "\n",
      "[[2 3 4 5]\n",
      " [5 6 7 8]]\n"
     ]
    }
   ],
   "source": [
    "var1 = np.array([2,3,4,5])   #USE  STACK FUNCTION\n",
    "var2 = np.array([5,6,7,8])\n",
    "ar_new1 = np.stack((var1,var2),axis=0)\n",
    "ar_new2 = np.dstack((var1,var2))#height\n",
    "ar_new3 = np.hstack((var1,var2))#row\n",
    "ar_new4 = np.vstack((var1,var2))#column\n",
    "print(ar_new1)\n",
    "print()\n",
    "print(ar_new2)\n",
    "print()\n",
    "print(ar_new3)\n",
    "print()\n",
    "print(ar_new4)"
   ]
  },
  {
   "cell_type": "markdown",
   "id": "ff700631",
   "metadata": {},
   "source": [
    "# Split"
   ]
  },
  {
   "cell_type": "code",
   "execution_count": 88,
   "id": "b6e03176",
   "metadata": {},
   "outputs": [
    {
     "name": "stdout",
     "output_type": "stream",
     "text": [
      "[3 3 4 5 6]\n",
      "[array([3, 3]), array([4, 5]), array([6])]\n",
      "<class 'list'>\n"
     ]
    }
   ],
   "source": [
    "import numpy as np\n",
    "\n",
    "var = np.array([3,3,4,5,6])\n",
    "\n",
    "print(var)\n",
    "\n",
    "ar = np.array_split(var,3)\n",
    "\n",
    "print(ar)\n",
    "print(type(ar))"
   ]
  },
  {
   "cell_type": "code",
   "execution_count": 91,
   "id": "d6ae616d",
   "metadata": {},
   "outputs": [
    {
     "name": "stdout",
     "output_type": "stream",
     "text": [
      "[[3 3]\n",
      " [4 5]\n",
      " [6 8]]\n",
      "2\n",
      "[array([[3, 3]]), array([[4, 5]]), array([[6, 8]])]\n"
     ]
    }
   ],
   "source": [
    "var = np.array([[3,3],[4,5],[6,8]])\n",
    "\n",
    "print(var)\n",
    "print(var.ndim)\n",
    "\n",
    "ar = np.array_split(var,3)\n",
    "\n",
    "print(ar)"
   ]
  },
  {
   "cell_type": "markdown",
   "id": "8ff691f7",
   "metadata": {},
   "source": [
    "# NumPy Array Functions\n",
    "\n",
    "#SORT,SEARCH,SORTED,FILTER"
   ]
  },
  {
   "cell_type": "markdown",
   "id": "1c902cc1",
   "metadata": {},
   "source": [
    "# Search"
   ]
  },
  {
   "cell_type": "code",
   "execution_count": 94,
   "id": "05792b1a",
   "metadata": {},
   "outputs": [
    {
     "name": "stdout",
     "output_type": "stream",
     "text": [
      "(array([], dtype=int64),)\n"
     ]
    }
   ],
   "source": [
    "import numpy as np\n",
    "\n",
    "var = np.array([2,3,4,5,6,7,8,9,2,3,4,5,62,3,2,3,42,3,4,2,3,2])\n",
    "\n",
    "x= np.where(var%2 == 4)\n",
    "print(x)"
   ]
  },
  {
   "cell_type": "markdown",
   "id": "a06d9d04",
   "metadata": {},
   "source": [
    "# SearchSorted"
   ]
  },
  {
   "cell_type": "code",
   "execution_count": 95,
   "id": "c9934c8d",
   "metadata": {},
   "outputs": [
    {
     "name": "stdout",
     "output_type": "stream",
     "text": [
      "2\n"
     ]
    }
   ],
   "source": [
    "var = np.array([2,3,4,5,6,7,8,9,2,3,4,5,62,3,2,3,42,3,4,2,3,2])\n",
    "\n",
    "x= np.searchsorted(var, 4)\n",
    "\n",
    "print(x)"
   ]
  },
  {
   "cell_type": "markdown",
   "id": "3728ed52",
   "metadata": {},
   "source": [
    "# Sort"
   ]
  },
  {
   "cell_type": "code",
   "execution_count": 96,
   "id": "87c2fd90",
   "metadata": {},
   "outputs": [
    {
     "name": "stdout",
     "output_type": "stream",
     "text": [
      "[2 3 4 5 6 7 8]\n"
     ]
    }
   ],
   "source": [
    "var_1 = np.array([2,3,4,5,6,7,8])\n",
    "\n",
    "print(np.sort(var_1))"
   ]
  },
  {
   "cell_type": "markdown",
   "id": "631c83f5",
   "metadata": {},
   "source": [
    "# Filter Array"
   ]
  },
  {
   "cell_type": "code",
   "execution_count": 98,
   "id": "39ff5f79",
   "metadata": {},
   "outputs": [
    {
     "name": "stdout",
     "output_type": "stream",
     "text": [
      "[2 5]\n"
     ]
    }
   ],
   "source": [
    "var_1 = np.array([2,3,4,5])\n",
    "\n",
    "f = [True,False,False,True]\n",
    "\n",
    "new_a = var_1[f]\n",
    "print(new_a)"
   ]
  },
  {
   "cell_type": "markdown",
   "id": "3d3aca0f",
   "metadata": {},
   "source": [
    "# Arithmetic Function \n",
    "Shuffle\n",
    "Unique\n",
    "Resize\n",
    "Flatten\n",
    "Revel\n"
   ]
  },
  {
   "cell_type": "markdown",
   "id": "566ab105",
   "metadata": {},
   "source": [
    "# Shuffle"
   ]
  },
  {
   "cell_type": "code",
   "execution_count": 2,
   "id": "102832ab",
   "metadata": {},
   "outputs": [
    {
     "name": "stdout",
     "output_type": "stream",
     "text": [
      "[2 1 3 5 4]\n"
     ]
    }
   ],
   "source": [
    "import numpy as np \n",
    "\n",
    "var = np.array([1,2,3,4,5])\n",
    "np.random.shuffle(var)\n",
    "print(var)"
   ]
  },
  {
   "cell_type": "markdown",
   "id": "fe880ea0",
   "metadata": {},
   "source": [
    "# Unique"
   ]
  },
  {
   "cell_type": "code",
   "execution_count": 105,
   "id": "813c3795",
   "metadata": {},
   "outputs": [
    {
     "name": "stdout",
     "output_type": "stream",
     "text": [
      "(array([1, 2, 3, 4, 5]), array([0, 1, 2, 3, 4], dtype=int64), array([1, 5, 5, 2, 2], dtype=int64))\n"
     ]
    }
   ],
   "source": [
    "var = np.array([1,2,3,4,5,2,3,2,3,4,5,2,3,2,3])\n",
    "\n",
    "x = np.unique(var,return_index=True,return_counts=True)\n",
    "print(x)"
   ]
  },
  {
   "cell_type": "markdown",
   "id": "7e57818d",
   "metadata": {},
   "source": [
    "# Resize"
   ]
  },
  {
   "cell_type": "code",
   "execution_count": 5,
   "id": "b956ce38",
   "metadata": {},
   "outputs": [
    {
     "name": "stdout",
     "output_type": "stream",
     "text": [
      "[[1 2]\n",
      " [3 4]\n",
      " [5 6]]\n"
     ]
    }
   ],
   "source": [
    "var = np.array([1,2,3,4,5,6])\n",
    "\n",
    "y= np.resize(var,(3,2))\n",
    "print(y)"
   ]
  },
  {
   "cell_type": "markdown",
   "id": "cdfa8c7e",
   "metadata": {},
   "source": [
    "# Flatten"
   ]
  },
  {
   "cell_type": "code",
   "execution_count": 8,
   "id": "45395c38",
   "metadata": {},
   "outputs": [
    {
     "name": "stdout",
     "output_type": "stream",
     "text": [
      "[[2 3 4 5]\n",
      " [3 4 5 6]]\n",
      "2\n",
      "[2 3 4 5 3 4 5 6]\n"
     ]
    }
   ],
   "source": [
    "import numpy as np\n",
    "\n",
    "var = np.array([[2,3,4,5],[3,4,5,6]])\n",
    "print(var)\n",
    "print(var.ndim)\n",
    "\n",
    "print(var.flatten())"
   ]
  },
  {
   "cell_type": "code",
   "execution_count": 14,
   "id": "fe9cabca",
   "metadata": {},
   "outputs": [
    {
     "name": "stdout",
     "output_type": "stream",
     "text": [
      "[[2 3 4 5]\n",
      " [3 4 5 6]]\n",
      "2\n",
      "[2 3 3 4 4 5 5 6]\n",
      "[2 3 4 5 3 4 5 6]\n",
      "\n",
      "\n",
      "[1 2 3 4 5 6]\n"
     ]
    }
   ],
   "source": [
    "var = np.array([[2,3,4,5],[3,4,5,6]])\n",
    "print(var)\n",
    "print(var.ndim)\n",
    "\n",
    "print(var.flatten(order=\"F\")) #flatten\n",
    "print(var.flatten(order=\"C\"))\n",
    "print()\n",
    "print()\n",
    "var2 = np.ravel(y,order=\"K\")#Ravel\n",
    "print(var2)\n"
   ]
  },
  {
   "cell_type": "markdown",
   "id": "7da0b58f",
   "metadata": {},
   "source": [
    "# Insert and Delete Function"
   ]
  },
  {
   "cell_type": "markdown",
   "id": "5a9f945e",
   "metadata": {},
   "source": [
    "# 1.Insert\n"
   ]
  },
  {
   "cell_type": "code",
   "execution_count": 19,
   "id": "9cc2d1c0",
   "metadata": {},
   "outputs": [
    {
     "name": "stdout",
     "output_type": "stream",
     "text": [
      "[4 5 6 7 8 9 0]\n",
      "1\n",
      "int32\n",
      "<class 'numpy.ndarray'>\n",
      "\n",
      "[4 5 6 4 7 8 4 9 0]\n"
     ]
    }
   ],
   "source": [
    "import numpy as np\n",
    "\n",
    "var = np.array([4,5,6,7,8,9,0])\n",
    "print(var)\n",
    "print(var.ndim)\n",
    "print(var.dtype)\n",
    "print(type(var))\n",
    "print()\n",
    "\n",
    "v= np.insert(var , (3,5) , 4.5)#accept only in int format\n",
    "print(v)\n"
   ]
  },
  {
   "cell_type": "code",
   "execution_count": 32,
   "id": "7854f461",
   "metadata": {},
   "outputs": [
    {
     "name": "stdout",
     "output_type": "stream",
     "text": [
      "[[3 5 6]\n",
      " [5 6 7]\n",
      " [2 6 3]]\n",
      "\n",
      "[3.  5.  6.  5.  6.  7.  6.5]\n",
      "\n",
      "[[ 3  5  6]\n",
      " [ 5  6  7]\n",
      " [45 44 32]]\n"
     ]
    }
   ],
   "source": [
    "#for two dimension\n",
    "\n",
    "\n",
    "var= np.array([[3,5,6],[5,6,7]])\n",
    "v = np.insert(var ,2, [2,6,3], axis=0)\n",
    "print(v)\n",
    "print()\n",
    "x = np.append(var,6.5)\n",
    "print(x)\n",
    "print()\n",
    "\n",
    "y = np.append(var,[[45,44,32]],axis=0)\n",
    "print(y)"
   ]
  },
  {
   "cell_type": "markdown",
   "id": "8057fe64",
   "metadata": {},
   "source": [
    "# 2.Delete"
   ]
  },
  {
   "cell_type": "code",
   "execution_count": 33,
   "id": "b395d76d",
   "metadata": {},
   "outputs": [
    {
     "name": "stdout",
     "output_type": "stream",
     "text": [
      "[3 4 5 6 7]\n",
      "[3 4 5 7]\n"
     ]
    }
   ],
   "source": [
    "import numpy as np \n",
    "\n",
    "var= np.array([3,4,5,6,7])\n",
    "\n",
    "print(var)\n",
    "d= np.delete(var,3)\n",
    "print(d)\n",
    "    "
   ]
  },
  {
   "cell_type": "markdown",
   "id": "f5b913f5",
   "metadata": {},
   "source": [
    "# Numpy Matrix"
   ]
  },
  {
   "cell_type": "code",
   "execution_count": 40,
   "id": "49e48175",
   "metadata": {},
   "outputs": [
    {
     "name": "stdout",
     "output_type": "stream",
     "text": [
      "[[1 2]\n",
      " [3 4]]\n",
      "<class 'numpy.matrix'>\n",
      "[[ 7 10]\n",
      " [15 22]]\n",
      "[[ 7 10]\n",
      " [15 22]]\n"
     ]
    }
   ],
   "source": [
    "import numpy as np\n",
    "\n",
    "var = np.matrix([[1,2],[3,4]])\n",
    "var2= np.matrix([[1,2],[3,4]])\n",
    "\n",
    "print(var)\n",
    "print(type(var))\n",
    "print(var*var2)\n",
    "print(var.dot(var2))"
   ]
  },
  {
   "cell_type": "code",
   "execution_count": 41,
   "id": "b5b533af",
   "metadata": {},
   "outputs": [
    {
     "name": "stdout",
     "output_type": "stream",
     "text": [
      "[[1 2 3]\n",
      " [3 4 5]]\n",
      "<class 'numpy.ndarray'>\n"
     ]
    }
   ],
   "source": [
    "var1 = np.array([[1,2,3],[3,4,5]])\n",
    "\n",
    "print(var1)\n",
    "print(type(var1))\n",
    "\n"
   ]
  },
  {
   "cell_type": "markdown",
   "id": "615e1d8b",
   "metadata": {},
   "source": [
    "# Matrix Functions"
   ]
  },
  {
   "cell_type": "code",
   "execution_count": null,
   "id": "4d482b75",
   "metadata": {},
   "outputs": [],
   "source": [
    "# Transpose\n",
    "#swapaxes\n",
    "#ainverse\n",
    "#power\n",
    "#Determinate"
   ]
  },
  {
   "cell_type": "code",
   "execution_count": 48,
   "id": "7b409d36",
   "metadata": {},
   "outputs": [
    {
     "name": "stdout",
     "output_type": "stream",
     "text": [
      "[[1 2 3]\n",
      " [4 5 6]]\n",
      "\n",
      "[[1 4]\n",
      " [2 5]\n",
      " [3 6]]\n",
      "\n",
      "[[1 4]\n",
      " [2 5]\n",
      " [3 6]]\n",
      "\n",
      "\n",
      "[[1 4]\n",
      " [2 5]\n",
      " [3 6]]\n"
     ]
    }
   ],
   "source": [
    "#1.Transpose\n",
    "\n",
    "import numpy as np\n",
    " \n",
    "var = np.matrix([[1,2,3],[4,5,6]])\n",
    "print(var)\n",
    "print()\n",
    "\n",
    "print(np.transpose(var))\n",
    "print()\n",
    "print(var.T)\n",
    "print()\n",
    "print()\n",
    "\n",
    "#2.Swapaxes\n",
    "print(np.swapaxes(var,0,1))"
   ]
  },
  {
   "cell_type": "code",
   "execution_count": 50,
   "id": "6bdb2dc5",
   "metadata": {},
   "outputs": [
    {
     "name": "stdout",
     "output_type": "stream",
     "text": [
      "[[1 2]\n",
      " [3 4]]\n",
      "\n",
      "[[1 3]\n",
      " [2 4]]\n"
     ]
    }
   ],
   "source": [
    "var3 = np.matrix([[1,2],[3,4]])\n",
    "print(var3)\n",
    "print()\n",
    "print(np.swapaxes(var3,0,1))"
   ]
  },
  {
   "cell_type": "code",
   "execution_count": 51,
   "id": "70320bbc",
   "metadata": {},
   "outputs": [
    {
     "name": "stdout",
     "output_type": "stream",
     "text": [
      "[[1 2]\n",
      " [3 4]]\n",
      "\n",
      "[[-2.   1. ]\n",
      " [ 1.5 -0.5]]\n"
     ]
    }
   ],
   "source": [
    "#3.Inverse\n",
    "\n",
    "var4 = np.matrix([[1,2],[3,4]])\n",
    "print(var3)\n",
    "print()\n",
    "\n",
    "print(np.linalg.inv(var4))"
   ]
  },
  {
   "cell_type": "code",
   "execution_count": 58,
   "id": "1bda946f",
   "metadata": {},
   "outputs": [
    {
     "name": "stdout",
     "output_type": "stream",
     "text": [
      "[[1 2]\n",
      " [3 4]]\n",
      "\n",
      "[[ 7 10]\n",
      " [15 22]]\n",
      "\n",
      "[[1 0]\n",
      " [0 1]]\n",
      "\n",
      "[[-14.75    6.75 ]\n",
      " [ 10.125  -4.625]]\n"
     ]
    }
   ],
   "source": [
    "#4. Power\n",
    "\n",
    "\n",
    "\n",
    "var5 = np.matrix([[1,2],[3,4]])\n",
    "print(var5)\n",
    "print()\n",
    "print(np.linalg.matrix_power(var5,2))\n",
    "print()\n",
    "\n",
    "print(np.linalg.matrix_power(var5,0))\n",
    "print()\n",
    "\n",
    "print(np.linalg.matrix_power(var5,-3))\n",
    "\n",
    "\n",
    "\n"
   ]
  },
  {
   "cell_type": "code",
   "execution_count": 60,
   "id": "479798bf",
   "metadata": {},
   "outputs": [
    {
     "name": "stdout",
     "output_type": "stream",
     "text": [
      "[[1 2 3]\n",
      " [1 3 4]\n",
      " [1 2 3]]\n",
      "\n",
      "0.0\n"
     ]
    }
   ],
   "source": [
    "#5.Determinate \n",
    "\n",
    "\n",
    "\n",
    "var6 = np.matrix([[1,2,3],[1,3,4],[1,2,3]])\n",
    "print(var6)\n",
    "print()\n",
    "print(np.linalg.det(var6))\n"
   ]
  },
  {
   "cell_type": "code",
   "execution_count": null,
   "id": "f579d374",
   "metadata": {},
   "outputs": [],
   "source": [
    "#######Thanks#########"
   ]
  }
 ],
 "metadata": {
  "kernelspec": {
   "display_name": "Python 3 (ipykernel)",
   "language": "python",
   "name": "python3"
  },
  "language_info": {
   "codemirror_mode": {
    "name": "ipython",
    "version": 3
   },
   "file_extension": ".py",
   "mimetype": "text/x-python",
   "name": "python",
   "nbconvert_exporter": "python",
   "pygments_lexer": "ipython3",
   "version": "3.9.12"
  }
 },
 "nbformat": 4,
 "nbformat_minor": 5
}
